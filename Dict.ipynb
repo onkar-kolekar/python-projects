{
 "cells": [
  {
   "cell_type": "code",
   "execution_count": null,
   "id": "82b898bb",
   "metadata": {},
   "outputs": [],
   "source": [
    "''' Dict- {}\n",
    "    It is Mutable in nature.\n",
    "    It is unordered and hence Indexing is not possible.\n",
    "    It has KeyValue pair.\n",
    "    \n",
    "    \n",
    "    Key- It is always unmutable.\n",
    "         Key can't be keyword.\n",
    "         Key will be always unique.\n",
    "         \n",
    "Note:- If we take similar key multiple times then it will consider only latest key \n",
    "       and its assigned value.\n",
    "         \n",
    "         \n",
    "         \n",
    "    Value- It is Mutable or Immutable.\n",
    "           It can have multiple values.\n",
    "'''\n"
   ]
  },
  {
   "cell_type": "code",
   "execution_count": null,
   "id": "7910c00f",
   "metadata": {},
   "outputs": [],
   "source": [
    "#How to create Dictionary"
   ]
  },
  {
   "cell_type": "code",
   "execution_count": 1,
   "id": "0c942630",
   "metadata": {},
   "outputs": [],
   "source": [
    "emp_dict = {\n",
    "    \"emp_id\": 101,\n",
    "    'emp_name': \"John\",\n",
    "    'emp_addr': 'Pune'\n",
    "}"
   ]
  },
  {
   "cell_type": "code",
   "execution_count": 3,
   "id": "90a60e70",
   "metadata": {},
   "outputs": [
    {
     "data": {
      "text/plain": [
       "{'emp_id': 101, 'emp_name': 'John', 'emp_addr': 'Pune'}"
      ]
     },
     "execution_count": 3,
     "metadata": {},
     "output_type": "execute_result"
    }
   ],
   "source": [
    "emp_dict"
   ]
  },
  {
   "cell_type": "code",
   "execution_count": 4,
   "id": "e2c9fdbf",
   "metadata": {},
   "outputs": [
    {
     "data": {
      "text/plain": [
       "dict"
      ]
     },
     "execution_count": 4,
     "metadata": {},
     "output_type": "execute_result"
    }
   ],
   "source": [
    "type(emp_dict)"
   ]
  },
  {
   "cell_type": "code",
   "execution_count": null,
   "id": "a456e348",
   "metadata": {},
   "outputs": [],
   "source": [
    "# How to access elements from dict"
   ]
  },
  {
   "cell_type": "code",
   "execution_count": 5,
   "id": "0fab0581",
   "metadata": {},
   "outputs": [
    {
     "data": {
      "text/plain": [
       "'John'"
      ]
     },
     "execution_count": 5,
     "metadata": {},
     "output_type": "execute_result"
    }
   ],
   "source": [
    "'''1. Using key\n",
    "   syntax- dict_name[key]\n",
    "   If the key is not present in that dict it will throw an KeyError\n",
    " '''\n",
    "\n",
    "emp_dict['emp_name']"
   ]
  },
  {
   "cell_type": "code",
   "execution_count": 7,
   "id": "c5479a15",
   "metadata": {},
   "outputs": [
    {
     "ename": "KeyError",
     "evalue": "'emp_number'",
     "output_type": "error",
     "traceback": [
      "\u001b[1;31m---------------------------------------------------------------------------\u001b[0m",
      "\u001b[1;31mKeyError\u001b[0m                                  Traceback (most recent call last)",
      "\u001b[1;32m~\\AppData\\Local\\Temp\\ipykernel_9992\\1886366088.py\u001b[0m in \u001b[0;36m<module>\u001b[1;34m\u001b[0m\n\u001b[1;32m----> 1\u001b[1;33m \u001b[0memp_dict\u001b[0m\u001b[1;33m[\u001b[0m\u001b[1;34m'emp_number'\u001b[0m\u001b[1;33m]\u001b[0m\u001b[1;33m\u001b[0m\u001b[1;33m\u001b[0m\u001b[0m\n\u001b[0m",
      "\u001b[1;31mKeyError\u001b[0m: 'emp_number'"
     ]
    }
   ],
   "source": [
    "emp_dict['emp_number']"
   ]
  },
  {
   "cell_type": "code",
   "execution_count": null,
   "id": "07dff0e7",
   "metadata": {},
   "outputs": [],
   "source": [
    "'''2. Using get method\n",
    "   syntax- dict_name.get(key)\n",
    "   If the key is not present in that dict it will return NoneType or we can give default \n",
    "   value for that.\n",
    "'''"
   ]
  },
  {
   "cell_type": "code",
   "execution_count": 6,
   "id": "e71ec0f5",
   "metadata": {},
   "outputs": [
    {
     "data": {
      "text/plain": [
       "101"
      ]
     },
     "execution_count": 6,
     "metadata": {},
     "output_type": "execute_result"
    }
   ],
   "source": [
    "emp_dict.get('emp_id')"
   ]
  },
  {
   "cell_type": "code",
   "execution_count": 9,
   "id": "b79c79fe",
   "metadata": {},
   "outputs": [],
   "source": [
    "t=emp_dict.get('emp_number')"
   ]
  },
  {
   "cell_type": "code",
   "execution_count": 10,
   "id": "37d04775",
   "metadata": {},
   "outputs": [
    {
     "data": {
      "text/plain": [
       "NoneType"
      ]
     },
     "execution_count": 10,
     "metadata": {},
     "output_type": "execute_result"
    }
   ],
   "source": [
    "type(t)"
   ]
  },
  {
   "cell_type": "code",
   "execution_count": 14,
   "id": "4299af22",
   "metadata": {},
   "outputs": [
    {
     "data": {
      "text/plain": [
       "8600439303"
      ]
     },
     "execution_count": 14,
     "metadata": {},
     "output_type": "execute_result"
    }
   ],
   "source": [
    "emp_dict.get('emp_number',8600439303)"
   ]
  },
  {
   "cell_type": "code",
   "execution_count": 11,
   "id": "a5ec57b0",
   "metadata": {},
   "outputs": [],
   "source": [
    "t1=emp_dict.get('emp_number',8600439303)"
   ]
  },
  {
   "cell_type": "code",
   "execution_count": 13,
   "id": "3ea89ae3",
   "metadata": {},
   "outputs": [
    {
     "data": {
      "text/plain": [
       "int"
      ]
     },
     "execution_count": 13,
     "metadata": {},
     "output_type": "execute_result"
    }
   ],
   "source": [
    "type(t1)"
   ]
  },
  {
   "cell_type": "code",
   "execution_count": null,
   "id": "3f8a992d",
   "metadata": {},
   "outputs": [],
   "source": [
    "# Operation list\n",
    "'''\n",
    "get \n",
    "\n",
    "update\n",
    "\n",
    "pop\n",
    "popitem\n",
    "clear\n",
    "\n",
    "copy\n",
    "\n",
    "keys\n",
    "values\n",
    "items\n",
    "fromkeys\n",
    "setdefault'''\n"
   ]
  },
  {
   "cell_type": "code",
   "execution_count": null,
   "id": "4a1dc15d",
   "metadata": {},
   "outputs": [],
   "source": [
    "# Insertion operations"
   ]
  },
  {
   "cell_type": "code",
   "execution_count": 18,
   "id": "8a732431",
   "metadata": {},
   "outputs": [],
   "source": [
    "# 1. To add the single element\n",
    "\n",
    "emp_dict['emp_no']=8787898541"
   ]
  },
  {
   "cell_type": "code",
   "execution_count": 19,
   "id": "1759e442",
   "metadata": {},
   "outputs": [
    {
     "data": {
      "text/plain": [
       "{'emp_id': 101, 'emp_name': 'John', 'emp_addr': 'Pune', 'emp_no': 8787898541}"
      ]
     },
     "execution_count": 19,
     "metadata": {},
     "output_type": "execute_result"
    }
   ],
   "source": [
    "emp_dict"
   ]
  },
  {
   "cell_type": "code",
   "execution_count": 21,
   "id": "6b34fb2a",
   "metadata": {},
   "outputs": [],
   "source": [
    "# 2. To add the multiple elements\n",
    "# syntax- dict_name.update({keyValue pairs})\n",
    "\n",
    "emp_dict.update({'emp_base_loc': 'Pune', 'emp_deputed_loc': 'Mumbai' })"
   ]
  },
  {
   "cell_type": "code",
   "execution_count": 23,
   "id": "6b47f5a5",
   "metadata": {},
   "outputs": [
    {
     "name": "stdout",
     "output_type": "stream",
     "text": [
      "{'emp_id': 101, 'emp_name': 'John', 'emp_addr': 'Pune', 'emp_no': 8787898541, 'emp_base_loc': 'Pune', 'emp_deputed_loc': 'Mumbai'}\n"
     ]
    }
   ],
   "source": [
    "emp_dict"
   ]
  },
  {
   "cell_type": "code",
   "execution_count": null,
   "id": "01916e1a",
   "metadata": {},
   "outputs": [],
   "source": [
    "# Deletion Operations"
   ]
  },
  {
   "cell_type": "code",
   "execution_count": null,
   "id": "6fb4210e",
   "metadata": {},
   "outputs": [],
   "source": [
    "''' 1.pop()- It is used to remove the desired item from dict by passing the key\n",
    "    syntax- dict_name.pop(key)\n",
    "'''"
   ]
  },
  {
   "cell_type": "code",
   "execution_count": 39,
   "id": "eabda791",
   "metadata": {},
   "outputs": [
    {
     "data": {
      "text/plain": [
       "{'e': 100, 'b': 100, 'a': 100, 'c': 100, 'd': 100}"
      ]
     },
     "execution_count": 39,
     "metadata": {},
     "output_type": "execute_result"
    }
   ],
   "source": [
    "b"
   ]
  },
  {
   "cell_type": "code",
   "execution_count": 41,
   "id": "dcd5c30e",
   "metadata": {},
   "outputs": [
    {
     "data": {
      "text/plain": [
       "100"
      ]
     },
     "execution_count": 41,
     "metadata": {},
     "output_type": "execute_result"
    }
   ],
   "source": [
    "b.pop('a')"
   ]
  },
  {
   "cell_type": "code",
   "execution_count": null,
   "id": "2379b9db",
   "metadata": {},
   "outputs": [],
   "source": [
    "''' 2. popitem()- It is used to remove the last inserted item from dict without passing the key\n",
    "    syntax- dict_name.popitem()\n",
    "'''"
   ]
  },
  {
   "cell_type": "code",
   "execution_count": 42,
   "id": "e13182af",
   "metadata": {},
   "outputs": [
    {
     "data": {
      "text/plain": [
       "('d', 100)"
      ]
     },
     "execution_count": 42,
     "metadata": {},
     "output_type": "execute_result"
    }
   ],
   "source": [
    "b.popitem()"
   ]
  },
  {
   "cell_type": "code",
   "execution_count": null,
   "id": "d19c2b77",
   "metadata": {},
   "outputs": [],
   "source": [
    "''' 3. clear()- It is used to clear the dict\n",
    "    syntax- dict_name.clear()\n",
    "'''"
   ]
  },
  {
   "cell_type": "code",
   "execution_count": null,
   "id": "6f58a5d3",
   "metadata": {},
   "outputs": [],
   "source": [
    "b.clear()"
   ]
  },
  {
   "cell_type": "code",
   "execution_count": null,
   "id": "141fd3f5",
   "metadata": {},
   "outputs": [],
   "source": [
    "# General Operations on dict"
   ]
  },
  {
   "cell_type": "code",
   "execution_count": 1,
   "id": "6829eddc",
   "metadata": {},
   "outputs": [],
   "source": [
    "''' 1. keys()- It will return only keys in the dict\n",
    "       syntax--> dict_name.keys()\n",
    "'''\n",
    "\n",
    "d10={'a':1,'b':2,'c':3}"
   ]
  },
  {
   "cell_type": "code",
   "execution_count": 2,
   "id": "c9462ce8",
   "metadata": {},
   "outputs": [
    {
     "data": {
      "text/plain": [
       "dict_keys(['a', 'b', 'c'])"
      ]
     },
     "execution_count": 2,
     "metadata": {},
     "output_type": "execute_result"
    }
   ],
   "source": [
    "d10.keys()"
   ]
  },
  {
   "cell_type": "code",
   "execution_count": null,
   "id": "ff44a7ae",
   "metadata": {},
   "outputs": [],
   "source": [
    "''' 2. values()- It will return only values in the dict\n",
    "       syntax--> dict_name.values()\n",
    "'''\n",
    "\n",
    "d10={'a':1,'b':2,'c':3}"
   ]
  },
  {
   "cell_type": "code",
   "execution_count": 3,
   "id": "2aa7a278",
   "metadata": {},
   "outputs": [
    {
     "data": {
      "text/plain": [
       "dict_values([1, 2, 3])"
      ]
     },
     "execution_count": 3,
     "metadata": {},
     "output_type": "execute_result"
    }
   ],
   "source": [
    "d10.values()"
   ]
  },
  {
   "cell_type": "code",
   "execution_count": null,
   "id": "c50ca990",
   "metadata": {},
   "outputs": [],
   "source": [
    "''' 3. items()- It will return all items in the dict\n",
    "       syntax--> dict_name.items()\n",
    "'''\n",
    "\n",
    "d10={'a':1,'b':2,'c':3}"
   ]
  },
  {
   "cell_type": "code",
   "execution_count": 4,
   "id": "31374d21",
   "metadata": {},
   "outputs": [
    {
     "data": {
      "text/plain": [
       "dict_items([('a', 1), ('b', 2), ('c', 3)])"
      ]
     },
     "execution_count": 4,
     "metadata": {},
     "output_type": "execute_result"
    }
   ],
   "source": [
    "d10.items()"
   ]
  },
  {
   "cell_type": "code",
   "execution_count": null,
   "id": "d05fae55",
   "metadata": {},
   "outputs": [],
   "source": [
    "'''4. fromkeys()- It will create the dictionary with only keys.\n",
    "                - Here default value is None & we also can give user-defined values instead of default None value.\n",
    "                - we can pass the keys through list, tuple and set\n",
    "syntax() - 1. dict.fromkeys(Name_of_list/Tuple/Set)  <-- It will return key Value pair with None values\n",
    "           2. dict.fromkeys(Name_of_list/Tuple/Set, user_defined value) <-- It will return key Value pair with user_defined values\n",
    "'''"
   ]
  },
  {
   "cell_type": "code",
   "execution_count": 2,
   "id": "28b324a2",
   "metadata": {},
   "outputs": [],
   "source": [
    "k={'a','b','c','d','e'}"
   ]
  },
  {
   "cell_type": "code",
   "execution_count": 3,
   "id": "04cb2efe",
   "metadata": {},
   "outputs": [
    {
     "data": {
      "text/plain": [
       "{'a', 'b', 'c', 'd', 'e'}"
      ]
     },
     "execution_count": 3,
     "metadata": {},
     "output_type": "execute_result"
    }
   ],
   "source": [
    "k"
   ]
  },
  {
   "cell_type": "code",
   "execution_count": 4,
   "id": "082d2cc0",
   "metadata": {},
   "outputs": [],
   "source": [
    "a=dict.fromkeys(k)   #It will return key Value pair with None values"
   ]
  },
  {
   "cell_type": "code",
   "execution_count": 5,
   "id": "93fa2e7a",
   "metadata": {},
   "outputs": [
    {
     "data": {
      "text/plain": [
       "{'c': None, 'a': None, 'd': None, 'e': None, 'b': None}"
      ]
     },
     "execution_count": 5,
     "metadata": {},
     "output_type": "execute_result"
    }
   ],
   "source": [
    "\n",
    "a"
   ]
  },
  {
   "cell_type": "code",
   "execution_count": 6,
   "id": "237694f6",
   "metadata": {},
   "outputs": [],
   "source": [
    "b=dict.fromkeys(k,100)    # It will return key Value pair with user_defined(i.e., 100 here) values"
   ]
  },
  {
   "cell_type": "code",
   "execution_count": 7,
   "id": "b6f159a7",
   "metadata": {},
   "outputs": [
    {
     "data": {
      "text/plain": [
       "{'c': 100, 'a': 100, 'd': 100, 'e': 100, 'b': 100}"
      ]
     },
     "execution_count": 7,
     "metadata": {},
     "output_type": "execute_result"
    }
   ],
   "source": [
    "b"
   ]
  },
  {
   "cell_type": "code",
   "execution_count": null,
   "id": "faf024ac",
   "metadata": {},
   "outputs": [],
   "source": [
    "'''5. setdefault()- It is mainly used while adding item in the dict and if wee don't know either that key is already present or not.\n",
    "                  - If the key is already present in dict then it will do nothing and will show original value of that key.\n",
    "                  - If the key is not present it will add the item with that key and value.\n",
    "syntax() - 1. dict_name.setdefault(key,value)  <-- It will return given Value if key is already not present otherwise orignial value will show. \n",
    "           2. dict_name.setdefault(key)  <-- It will return None Value.\n",
    "''' "
   ]
  },
  {
   "cell_type": "code",
   "execution_count": 9,
   "id": "a20970b1",
   "metadata": {},
   "outputs": [
    {
     "data": {
      "text/plain": [
       "{'c': 100, 'a': 100, 'd': 100, 'e': 100, 'b': 100}"
      ]
     },
     "execution_count": 9,
     "metadata": {},
     "output_type": "execute_result"
    }
   ],
   "source": [
    "b"
   ]
  },
  {
   "cell_type": "code",
   "execution_count": 10,
   "id": "dca227c2",
   "metadata": {},
   "outputs": [
    {
     "data": {
      "text/plain": [
       "'Onkar'"
      ]
     },
     "execution_count": 10,
     "metadata": {},
     "output_type": "execute_result"
    }
   ],
   "source": [
    "b.setdefault('f','Onkar')  #  <-- It will return given Value "
   ]
  },
  {
   "cell_type": "code",
   "execution_count": 11,
   "id": "386dff8c",
   "metadata": {},
   "outputs": [
    {
     "data": {
      "text/plain": [
       "{'c': 100, 'a': 100, 'd': 100, 'e': 100, 'b': 100, 'f': 'Onkar'}"
      ]
     },
     "execution_count": 11,
     "metadata": {},
     "output_type": "execute_result"
    }
   ],
   "source": [
    "b"
   ]
  },
  {
   "cell_type": "code",
   "execution_count": 18,
   "id": "ab9d948d",
   "metadata": {},
   "outputs": [
    {
     "data": {
      "text/plain": [
       "100"
      ]
     },
     "execution_count": 18,
     "metadata": {},
     "output_type": "execute_result"
    }
   ],
   "source": [
    "b.setdefault('a',500)  # orignial value will show"
   ]
  },
  {
   "cell_type": "code",
   "execution_count": 15,
   "id": "9c780947",
   "metadata": {},
   "outputs": [],
   "source": [
    "b.setdefault('g')  # <-- It will return None Value."
   ]
  },
  {
   "cell_type": "code",
   "execution_count": 16,
   "id": "23211df7",
   "metadata": {},
   "outputs": [
    {
     "data": {
      "text/plain": [
       "{'c': 100, 'a': 100, 'd': 100, 'e': 100, 'b': 100, 'f': 'Onkar', 'g': None}"
      ]
     },
     "execution_count": 16,
     "metadata": {},
     "output_type": "execute_result"
    }
   ],
   "source": [
    "b"
   ]
  },
  {
   "cell_type": "code",
   "execution_count": 30,
   "id": "afa65145",
   "metadata": {},
   "outputs": [],
   "source": [
    "new_dict_ex = {  \n",
    "   \"Records\":[  \n",
    "      {  \n",
    "         \"eventVersion\":\"2.2\",\n",
    "         \"eventSource\":\"aws:s3\",\n",
    "         \"awsRegion\":\"us-west-2\",\n",
    "         \"eventTime\":\"The time, in ISO-8601 format, for example, 1970-01-01T00:00:00.000Z, when Amazon S3 finished processing the request\",\n",
    "         \"eventName\":\"event-type\",\n",
    "         \"userIdentity\":{  \n",
    "            \"principalId\":\"Amazon-customer-ID-of-the-user-who-caused-the-event\"\n",
    "         },\n",
    "         \"requestParameters\":{  \n",
    "            \"sourceIPAddress\":\"ip-address-where-request-came-from\"\n",
    "         },\n",
    "         \"responseElements\":{  \n",
    "            \"x-amz-request-id\":\"Amazon S3 generated request ID\",\n",
    "            \"x-amz-id-2\":\"Amazon S3 host that processed the request\"\n",
    "         },\n",
    "         \"s3\":{  \n",
    "            \"s3SchemaVersion\":\"1.0\",\n",
    "            \"configurationId\":\"ID found in the bucket notification configuration\",\n",
    "            \"bucket\":{  \n",
    "               \"name\":\"bucket-name\",\n",
    "               \"ownerIdentity\":{  \n",
    "                  \"principalId\":\"Amazon-customer-ID-of-the-bucket-owner\"\n",
    "               },\n",
    "               \"arn\":\"bucket-ARN\"\n",
    "            },\n",
    "            \"object\":{  \n",
    "               \"key\":\"object-key\",\n",
    "               \"size\":\"object-size in bytes\",\n",
    "               \"eTag\":\"object eTag\",\n",
    "               \"versionId\":\"object version if bucket is versioning-enabled, otherwise null\",\n",
    "               \"sequencer\": \"a string representation of a hexadecimal value used to determine event sequence, only used with PUTs and DELETEs\"\n",
    "            }\n",
    "         },\n",
    "         \"glacierEventData\": {\n",
    "            \"restoreEventData\": {\n",
    "               \"lifecycleRestorationExpiryTime\": \"The time, in ISO-8601 format, for example, 1970-01-01T00:00:00.000Z, of Restore Expiry\",\n",
    "               \"lifecycleRestoreStorageClass\": \"Source storage class for restore\"\n",
    "            }\n",
    "         }\n",
    "      }\n",
    "   ]\n",
    "}"
   ]
  },
  {
   "cell_type": "code",
   "execution_count": 34,
   "id": "71e0209f",
   "metadata": {},
   "outputs": [
    {
     "data": {
      "text/plain": [
       "'ip-address-where-request-came-from'"
      ]
     },
     "execution_count": 34,
     "metadata": {},
     "output_type": "execute_result"
    }
   ],
   "source": [
    "# How to access sourceIPAddress from new_dict_ex dict\n",
    "\n",
    "new_dict_ex['Records'][0]['requestParameters']['sourceIPAddress']"
   ]
  },
  {
   "cell_type": "code",
   "execution_count": 34,
   "id": "7938688f",
   "metadata": {},
   "outputs": [],
   "source": [
    "company_details={'names': ['Arun', 'Tejas', 'Soham', 'Asif'],\n",
    " 'id': (101, 50, 60, 70, 90),\n",
    " 'sal': [1518518, 118181, 61161, 1616161]}"
   ]
  },
  {
   "cell_type": "code",
   "execution_count": 35,
   "id": "4b7db9c0",
   "metadata": {},
   "outputs": [
    {
     "data": {
      "text/plain": [
       "{'names': ['Arun', 'Tejas', 'Soham', 'Asif'],\n",
       " 'id': (101, 50, 60, 70, 90),\n",
       " 'sal': [1518518, 118181, 61161, 1616161]}"
      ]
     },
     "execution_count": 35,
     "metadata": {},
     "output_type": "execute_result"
    }
   ],
   "source": [
    "company_details"
   ]
  },
  {
   "cell_type": "code",
   "execution_count": 36,
   "id": "339e7682",
   "metadata": {},
   "outputs": [
    {
     "data": {
      "text/plain": [
       "118181"
      ]
     },
     "execution_count": 36,
     "metadata": {},
     "output_type": "execute_result"
    }
   ],
   "source": [
    "# How to access element 118181 from company_details dict\n",
    "\n",
    "company_details['sal'][1]"
   ]
  },
  {
   "cell_type": "code",
   "execution_count": 35,
   "id": "39a98d07",
   "metadata": {},
   "outputs": [],
   "source": [
    "assignment={'Records': [{'eventVersion': '2.0',\n",
    "   'eventTime': '1970-01-01T00:00:00.000Z',\n",
    "   'requestParameters': {'sourceIPAddress': '127.0.0.1'},\n",
    "   's3': {'configurationId': 'testConfigRule',\n",
    "    'object': {'eTag': '0123456789abcdef0123456789abcdef',\n",
    "     'sequencer': '0A1B2C3D4E5F678901',\n",
    "     'key': 'HappyFace.jpg',\n",
    "     'size': 1024},\n",
    "    'bucket': {'arn': 'bucketarn',\n",
    "     'name': 'sourcebucket',\n",
    "     'ownerIdentity': {'principalId': 'EXAMPLE'}},\n",
    "    's3SchemaVersion': '1.0'},\n",
    "   'responseElements': {'x-amz-id-2': 'EXAMPLE123/5678abcdefghijklambdaisawesome/mnopqrstuvwxyzABCDEFGH',\n",
    "    'x-amz-request-id': 'EXAMPLE123456789'},\n",
    "   'awsRegion': 'us-east-1',\n",
    "   'eventName': 'ObjectCreated:Put',\n",
    "   'userIdentity': {'principalId': 'EXAMPLE'},\n",
    "   'eventSource': 'aws:s3'}]}"
   ]
  },
  {
   "cell_type": "code",
   "execution_count": 39,
   "id": "c96847f3",
   "metadata": {},
   "outputs": [
    {
     "data": {
      "text/plain": [
       "'HappyFace.jpg'"
      ]
     },
     "execution_count": 39,
     "metadata": {},
     "output_type": "execute_result"
    }
   ],
   "source": [
    "# How to access filename,s3 buckect,s3SchemaVersion,aws region from assignment dict\n",
    "\n",
    "#filename\n",
    "assignment['Records'][0]['s3']['object']['key']"
   ]
  },
  {
   "cell_type": "code",
   "execution_count": 47,
   "id": "f453fdf7",
   "metadata": {},
   "outputs": [
    {
     "data": {
      "text/plain": [
       "{'arn': 'bucketarn',\n",
       " 'name': 'sourcebucket',\n",
       " 'ownerIdentity': {'principalId': 'EXAMPLE'}}"
      ]
     },
     "execution_count": 47,
     "metadata": {},
     "output_type": "execute_result"
    }
   ],
   "source": [
    "#S3 bucket\n",
    "assignment['Records'][0]['s3']['bucket']"
   ]
  },
  {
   "cell_type": "code",
   "execution_count": 51,
   "id": "5cd247bb",
   "metadata": {},
   "outputs": [
    {
     "data": {
      "text/plain": [
       "'1.0'"
      ]
     },
     "execution_count": 51,
     "metadata": {},
     "output_type": "execute_result"
    }
   ],
   "source": [
    "# version\n",
    "\n",
    "assignment['Records'][0]['s3']['s3SchemaVersion']"
   ]
  },
  {
   "cell_type": "code",
   "execution_count": 53,
   "id": "2f8cbeb3",
   "metadata": {},
   "outputs": [
    {
     "data": {
      "text/plain": [
       "'us-east-1'"
      ]
     },
     "execution_count": 53,
     "metadata": {},
     "output_type": "execute_result"
    }
   ],
   "source": [
    "# aws region\n",
    "\n",
    "assignment['Records'][0]['awsRegion']"
   ]
  }
 ],
 "metadata": {
  "kernelspec": {
   "display_name": "Python 3 (ipykernel)",
   "language": "python",
   "name": "python3"
  },
  "language_info": {
   "codemirror_mode": {
    "name": "ipython",
    "version": 3
   },
   "file_extension": ".py",
   "mimetype": "text/x-python",
   "name": "python",
   "nbconvert_exporter": "python",
   "pygments_lexer": "ipython3",
   "version": "3.9.13"
  }
 },
 "nbformat": 4,
 "nbformat_minor": 5
}
